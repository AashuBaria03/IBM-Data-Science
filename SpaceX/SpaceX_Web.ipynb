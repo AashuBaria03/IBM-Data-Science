{
 "cells": [
  {
   "cell_type": "markdown",
   "metadata": {},
   "source": [
    "\n",
    "# SpaceX Falcon 9 First Stage Landing Prediction"
   ]
  },
  {
   "cell_type": "markdown",
   "metadata": {},
   "source": [
    "\n",
    "![](https://cf-courses-data.s3.us.cloud-object-storage.appdomain.cloud/IBM-DS0321EN-SkillsNetwork/labs/module_1_L2/images/Falcon9_rocket_family.svg)\n"
   ]
  },
  {
   "cell_type": "markdown",
   "metadata": {},
   "source": [
    "![](https://cf-courses-data.s3.us.cloud-object-storage.appdomain.cloud/IBMDeveloperSkillsNetwork-DS0701EN-SkillsNetwork/api/Images/landing_1.gif)\n",
    "\n"
   ]
  },
  {
   "cell_type": "markdown",
   "metadata": {},
   "source": [
    "![](https://cf-courses-data.s3.us.cloud-object-storage.appdomain.cloud/IBMDeveloperSkillsNetwork-DS0701EN-SkillsNetwork/api/Images/crash.gif)\n"
   ]
  },
  {
   "cell_type": "markdown",
   "metadata": {},
   "source": [
    "![](https://cf-courses-data.s3.us.cloud-object-storage.appdomain.cloud/IBM-DS0321EN-SkillsNetwork/labs/module_1_L2/images/falcon9-launches-wiki.png)\n"
   ]
  },
  {
   "cell_type": "code",
   "execution_count": 1,
   "metadata": {},
   "outputs": [],
   "source": [
    "import requests\n",
    "from bs4 import BeautifulSoup\n",
    "import unicodedata\n",
    "import pandas as pd"
   ]
  },
  {
   "cell_type": "code",
   "execution_count": 2,
   "metadata": {},
   "outputs": [],
   "source": [
    "def date_time(table_cells):\n",
    "    \"\"\"\n",
    "    Extracts date and time from an HTML table cell.\n",
    "    Input: A table data cell element.\n",
    "    Returns: List of [date, time].\n",
    "    \"\"\"\n",
    "    return [data_time.strip() for data_time in list(table_cells.strings)][0:2]\n",
    "\n",
    "def booster_version(table_cells):\n",
    "    \"\"\"\n",
    "    Extracts booster version from an HTML table cell.\n",
    "    Input: A table data cell element.\n",
    "    Returns: Booster version string.\n",
    "    \"\"\"\n",
    "    out = ''.join([bv for i, bv in enumerate(table_cells.strings) if i % 2 == 0][0:-1])\n",
    "    return out\n",
    "\n",
    "def landing_status(table_cells):\n",
    "    \"\"\"\n",
    "    Extracts landing status from an HTML table cell.\n",
    "    Input: A table data cell element.\n",
    "    Returns: Landing status string.\n",
    "    \"\"\"\n",
    "    out = [i for i in table_cells.strings][0]\n",
    "    return out\n",
    "\n",
    "def get_mass(table_cells):\n",
    "    \"\"\"\n",
    "    Extracts payload mass from an HTML table cell.\n",
    "    Input: A table data cell element.\n",
    "    Returns: Mass string (e.g., '500 kg') or 0 if not found.\n",
    "    \"\"\"\n",
    "    mass = unicodedata.normalize(\"NFKD\", table_cells.text).strip()\n",
    "    if mass:\n",
    "        kg_index = mass.find(\"kg\")\n",
    "        if kg_index != -1:\n",
    "            new_mass = mass[0:kg_index + 2]\n",
    "        else:\n",
    "            new_mass = mass  # Take the whole string if 'kg' is not found\n",
    "    else:\n",
    "        new_mass = 0\n",
    "    return new_mass\n",
    "\n",
    "def extract_column_from_header(row):\n",
    "    \"\"\"\n",
    "    Extracts column name from a table header cell.\n",
    "    Input: A table header element (<th>).\n",
    "    Returns: Cleaned column name string or None.\n",
    "    \"\"\"\n",
    "    if row.br:\n",
    "        row.br.extract()\n",
    "    if row.a:\n",
    "        row.a.extract()\n",
    "    if row.sup:\n",
    "        row.sup.extract()\n",
    "    column_name = ' '.join(row.contents)\n",
    "    if not(column_name.strip().isdigit()):\n",
    "        column_name = column_name.strip()\n",
    "        return column_name\n",
    "    "
   ]
  },
  {
   "cell_type": "code",
   "execution_count": 3,
   "metadata": {},
   "outputs": [],
   "source": [
    "# URL of the Wikipedia page snapshot from June 9, 2021\n",
    "static_url = \"https://en.wikipedia.org/w/index.php?title=List_of_Falcon_9_and_Falcon_Heavy_launches&oldid=1027686922\""
   ]
  },
  {
   "cell_type": "code",
   "execution_count": 4,
   "metadata": {},
   "outputs": [
    {
     "name": "stdout",
     "output_type": "stream",
     "text": [
      "<title>List of Falcon 9 and Falcon Heavy launches - Wikipedia</title>\n"
     ]
    }
   ],
   "source": [
    "# Perform HTTP GET request\n",
    "response = requests.get(static_url)\n",
    "\n",
    "# Create BeautifulSoup object\n",
    "soup = BeautifulSoup(response.content, 'html.parser')\n",
    "\n",
    "# Verify by printing the page title\n",
    "print(soup.title)"
   ]
  },
  {
   "cell_type": "code",
   "execution_count": 5,
   "metadata": {},
   "outputs": [
    {
     "name": "stdout",
     "output_type": "stream",
     "text": [
      "['Flight No.', 'Date and time ( )', 'Launch site', 'Payload', 'Payload mass', 'Orbit', 'Customer', 'Launch outcome']\n"
     ]
    }
   ],
   "source": [
    "# Find all tables with the specified class\n",
    "html_tables = soup.find_all('table', class_=\"wikitable plainrowheaders collapsible\")\n",
    "\n",
    "# Select the third table (index 2) containing launch records\n",
    "first_launch_table = html_tables[2]\n",
    "\n",
    "# Extract column names from the header row\n",
    "header_row = first_launch_table.find('tr')\n",
    "column_headers = header_row.find_all('th')\n",
    "column_names = [extract_column_from_header(th) for th in column_headers if extract_column_from_header(th)]\n",
    "\n",
    "# Print the column names\n",
    "print(column_names)"
   ]
  },
  {
   "cell_type": "code",
   "execution_count": 6,
   "metadata": {},
   "outputs": [
    {
     "name": "stdout",
     "output_type": "stream",
     "text": [
      "  Flight No. Launch site                               Payload Payload mass  \\\n",
      "0          1       CCAFS  Dragon Spacecraft Qualification Unit            0   \n",
      "1          2       CCAFS                                Dragon            0   \n",
      "2          3       CCAFS                                Dragon       525 kg   \n",
      "3          4       CCAFS                          SpaceX CRS-1     4,700 kg   \n",
      "4          5       CCAFS                          SpaceX CRS-2     4,877 kg   \n",
      "\n",
      "  Orbit Customer Launch outcome   Version Booster Booster landing  \\\n",
      "0   LEO   SpaceX      Success\\n  F9 v1.07B0003.18         Failure   \n",
      "1   LEO     NASA        Success  F9 v1.07B0004.18         Failure   \n",
      "2   LEO     NASA        Success  F9 v1.07B0005.18    No attempt\\n   \n",
      "3   LEO     NASA      Success\\n  F9 v1.07B0006.18      No attempt   \n",
      "4   LEO     NASA      Success\\n  F9 v1.07B0007.18    No attempt\\n   \n",
      "\n",
      "              Date   Time  \n",
      "0      4 June 2010  18:45  \n",
      "1  8 December 2010  15:43  \n",
      "2      22 May 2012  07:44  \n",
      "3   8 October 2012  00:35  \n",
      "4     1 March 2013  15:10  \n"
     ]
    }
   ],
   "source": [
    "# Initialize dictionary with specific keys\n",
    "launch_dict = {\n",
    "    'Flight No.': [],\n",
    "    'Launch site': [],\n",
    "    'Payload': [],\n",
    "    'Payload mass': [],\n",
    "    'Orbit': [],\n",
    "    'Customer': [],\n",
    "    'Launch outcome': [],\n",
    "    'Version Booster': [],\n",
    "    'Booster landing': [],\n",
    "    'Date': [],\n",
    "    'Time': []\n",
    "}\n",
    "\n",
    "# Parse all tables and extract data\n",
    "extracted_row = 0\n",
    "for table_number, table in enumerate(soup.find_all('table', \"wikitable plainrowheaders collapsible\")):\n",
    "    for rows in table.find_all(\"tr\"):\n",
    "        # Check if the row has a flight number\n",
    "        if rows.th and rows.th.string:\n",
    "            flight_number = rows.th.string.strip()\n",
    "            flag = flight_number.isdigit()\n",
    "        else:\n",
    "            flag = False\n",
    "        \n",
    "        # Extract data cells\n",
    "        row = rows.find_all('td')\n",
    "        if flag:\n",
    "            extracted_row += 1\n",
    "            \n",
    "            # Flight Number\n",
    "            launch_dict['Flight No.'].append(flight_number)\n",
    "            \n",
    "            # Date and Time\n",
    "            datatimelist = date_time(row[0])\n",
    "            launch_dict['Date'].append(datatimelist[0].strip(','))\n",
    "            launch_dict['Time'].append(datatimelist[1])\n",
    "            \n",
    "            # Booster Version\n",
    "            bv = booster_version(row[1])\n",
    "            if not bv:\n",
    "                bv = row[1].a.string if row[1].a else None\n",
    "            launch_dict['Version Booster'].append(bv)\n",
    "            \n",
    "            # Launch Site\n",
    "            launch_site = row[2].a.string if row[2].a else None\n",
    "            launch_dict['Launch site'].append(launch_site)\n",
    "            \n",
    "            # Payload\n",
    "            payload = row[3].a.string if row[3].a else None\n",
    "            launch_dict['Payload'].append(payload)\n",
    "            \n",
    "            # Payload Mass\n",
    "            payload_mass = get_mass(row[4])\n",
    "            launch_dict['Payload mass'].append(payload_mass)\n",
    "            \n",
    "            # Orbit\n",
    "            orbit = row[5].a.string if row[5].a else None\n",
    "            launch_dict['Orbit'].append(orbit)\n",
    "            \n",
    "            # Customer\n",
    "            customer = row[6].a.string if row[6].a else None\n",
    "            launch_dict['Customer'].append(customer)\n",
    "            \n",
    "            # Launch Outcome\n",
    "            launch_outcome = list(row[7].strings)[0]\n",
    "            launch_dict['Launch outcome'].append(launch_outcome)\n",
    "            \n",
    "            # Booster Landing\n",
    "            booster_landing = landing_status(row[8])\n",
    "            launch_dict['Booster landing'].append(booster_landing)\n",
    "\n",
    "# Create DataFrame\n",
    "df = pd.DataFrame(launch_dict)\n",
    "\n",
    "# Display the first few rows\n",
    "print(df.head())\n",
    "\n",
    "# Save to CSV\n",
    "df.to_csv('spacex_web_scraped.csv', index=False)"
   ]
  },
  {
   "cell_type": "markdown",
   "metadata": {},
   "source": [
    "## Summary\n",
    "\n",
    "You have successfully:\n",
    "1. **Requested** the Falcon 9 launch Wikipedia page using `requests`.\n",
    "2. **Extracted** column names from the table header using `BeautifulSoup`.\n",
    "3. **Parsed** launch data from all relevant tables and stored it in a DataFrame.\n",
    "4. **Exported** the data to a CSV file named `spacex_web_scraped.csv`.\n",
    "\n",
    "This data can now be used for further analysis, such as predicting Falcon 9 first-stage landing success."
   ]
  },
  {
   "cell_type": "markdown",
   "metadata": {},
   "source": [
    "## Authors\n",
    "\n",
    "- [Aashu Baria](https://www.linkedin.com/in//)\n",
    "\n",
    "\n",
    "\n",
    "\n"
   ]
  },
  {
   "cell_type": "code",
   "execution_count": null,
   "metadata": {},
   "outputs": [],
   "source": []
  }
 ],
 "metadata": {
  "kernelspec": {
   "display_name": "base",
   "language": "python",
   "name": "python3"
  },
  "language_info": {
   "codemirror_mode": {
    "name": "ipython",
    "version": 3
   },
   "file_extension": ".py",
   "mimetype": "text/x-python",
   "name": "python",
   "nbconvert_exporter": "python",
   "pygments_lexer": "ipython3",
   "version": "3.12.3"
  }
 },
 "nbformat": 4,
 "nbformat_minor": 2
}
