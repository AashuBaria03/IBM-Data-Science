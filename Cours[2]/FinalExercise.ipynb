{
 "cells": [
  {
   "cell_type": "markdown",
   "id": "9d5b080b-f28b-4c72-978e-6adbd7b68add",
   "metadata": {},
   "source": [
    "# Data Science Essentials\n"
   ]
  },
  {
   "cell_type": "markdown",
   "id": "26174407-ba0d-420a-bf3f-f09b03b8c260",
   "metadata": {},
   "source": [
    "## Introduction  \n",
    "This notebook provides an overview of key components in Data Science, including languages, libraries, tools, and basic arithmetic operations.\n"
   ]
  },
  {
   "cell_type": "markdown",
   "id": "9f826e2c-e7de-453d-87e7-e63a23b2f7ca",
   "metadata": {},
   "source": [
    "## Data Science Languages  \n",
    "Some common programming languages used in Data Science are:  \n",
    "- Python  \n",
    "- R  \n",
    "- SQL  \n",
    "- Julia  \n",
    "- Java  \n"
   ]
  },
  {
   "cell_type": "markdown",
   "id": "8f468e33-78ff-4b43-ad89-214aad4679ea",
   "metadata": {},
   "source": [
    "## Data Science Languages  \n",
    "Some common programming languages used in Data Science are:  \n",
    "- Python  \n",
    "- R  \n",
    "- SQL  \n",
    "- Julia  \n",
    "- Java  \n"
   ]
  },
  {
   "cell_type": "markdown",
   "id": "f0068823-d109-4587-8274-f4394e2ce4c8",
   "metadata": {},
   "source": [
    "## Data Science Tools  \n",
    "\n",
    "| Tool            | Description                         |\n",
    "|----------------|-----------------------------------|\n",
    "| Jupyter Notebook | Interactive computing environment |\n",
    "| RStudio        | IDE for R programming            |\n",
    "| Apache Spark   | Big data processing framework    |\n",
    "| TensorFlow     | Machine Learning library         |\n",
    "| Power BI       | Data visualization tool         |\n"
   ]
  },
  {
   "cell_type": "markdown",
   "id": "5f943211-62f1-40a7-9014-d022cb17ce73",
   "metadata": {},
   "source": [
    "## Arithmetic Expression Examples  \n",
    "Arithmetic expressions are used in calculations such as addition, multiplication, and division. Below are some examples in Python.\n",
    "ok.\n"
   ]
  },
  {
   "cell_type": "code",
   "execution_count": 1,
   "id": "6b71907f-f58f-42c4-bf21-a0f65ebd4915",
   "metadata": {},
   "outputs": [
    {
     "data": {
      "text/plain": [
       "60"
      ]
     },
     "execution_count": 1,
     "metadata": {},
     "output_type": "execute_result"
    }
   ],
   "source": [
    "# Multiply and Add Numbers\n",
    "a = 5\n",
    "b = 10\n",
    "result = (a * b) + b\n",
    "result\n"
   ]
  },
  {
   "cell_type": "code",
   "execution_count": 2,
   "id": "348f5160-2244-4f92-aef6-eadd6991b355",
   "metadata": {},
   "outputs": [
    {
     "data": {
      "text/plain": [
       "2.0"
      ]
     },
     "execution_count": 2,
     "metadata": {},
     "output_type": "execute_result"
    }
   ],
   "source": [
    "# Convert Minutes to Hours\n",
    "minutes = 120\n",
    "hours = minutes / 60\n",
    "hours\n"
   ]
  },
  {
   "cell_type": "markdown",
   "id": "af5dce9e-606b-4cb7-9d7c-94efc70afb39",
   "metadata": {},
   "source": [
    "## Objectives  \n",
    "- Understand common Data Science languages  \n",
    "- Learn about key Data Science libraries  \n",
    "- Identify important Data Science tools  \n",
    "- Perform basic arithmetic operations  \n",
    "- Convert time units using Python  \n"
   ]
  },
  {
   "cell_type": "code",
   "execution_count": null,
   "id": "6cb0f61e-7949-4f81-9e7b-bf8dec2fb85e",
   "metadata": {},
   "outputs": [],
   "source": [
    "## Author  \n",
    "John Doe  \n"
   ]
  }
 ],
 "metadata": {
  "kernelspec": {
   "display_name": "Python 3 (ipykernel)",
   "language": "python",
   "name": "python3"
  },
  "language_info": {
   "codemirror_mode": {
    "name": "ipython",
    "version": 3
   },
   "file_extension": ".py",
   "mimetype": "text/x-python",
   "name": "python",
   "nbconvert_exporter": "python",
   "pygments_lexer": "ipython3",
   "version": "3.12.7"
  }
 },
 "nbformat": 4,
 "nbformat_minor": 5
}
